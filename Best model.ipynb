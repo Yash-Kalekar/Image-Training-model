{
 "cells": [
  {
   "cell_type": "code",
   "execution_count": 1,
   "id": "128d9618-3617-4fa4-80f0-4eb9b1bc83cf",
   "metadata": {},
   "outputs": [],
   "source": [
    "import numpy as np\n",
    "import matplotlib.pyplot as plt\n",
    "import os\n",
    "import tensorflow as tf\n",
    "from tensorflow.keras.models import Sequential\n",
    "from tensorflow.keras.layers import Conv2D, MaxPooling2D, Flatten, Dense, Dropout, BatchNormalization\n",
    "from tensorflow.keras.preprocessing.image import ImageDataGenerator\n",
    "from sklearn.metrics import classification_report, confusion_matrix\n"
   ]
  },
  {
   "cell_type": "code",
   "execution_count": 2,
   "id": "4e5e9ec1-5ced-4fbc-a0af-aaea54dfa325",
   "metadata": {},
   "outputs": [
    {
     "name": "stdout",
     "output_type": "stream",
     "text": [
      "Found 879 images belonging to 12 classes.\n",
      "Found 879 images belonging to 12 classes.\n"
     ]
    }
   ],
   "source": [
    "# Data Preprocessing and augmentation using ImageDataGenerator\n",
    "train_datagen = ImageDataGenerator(\n",
    "    rescale=1./255,\n",
    "    shear_range=0.1,\n",
    "    zoom_range=0.1,\n",
    "    horizontal_flip=True\n",
    ")\n",
    "\n",
    "val_datagen = ImageDataGenerator(rescale=1./255)\n",
    "\n",
    "# Load training data\n",
    "train_generator = train_datagen.flow_from_directory(\n",
    "    'Dataset',\n",
    "    target_size=(128, 128),\n",
    "    batch_size=32,\n",
    "    class_mode='categorical'\n",
    ")\n",
    "\n",
    "# Load validation data\n",
    "val_generator = val_datagen.flow_from_directory(\n",
    "    'Dataset',\n",
    "    target_size=(128, 128),\n",
    "    batch_size=32,\n",
    "    class_mode='categorical',\n",
    "    shuffle=False\n",
    ")\n"
   ]
  },
  {
   "cell_type": "code",
   "execution_count": 3,
   "id": "2d2f6575-4c59-4230-9edb-82eeca169883",
   "metadata": {},
   "outputs": [
    {
     "name": "stderr",
     "output_type": "stream",
     "text": [
      "C:\\Users\\Manish\\AppData\\Roaming\\Python\\Python312\\site-packages\\keras\\src\\layers\\convolutional\\base_conv.py:107: UserWarning: Do not pass an `input_shape`/`input_dim` argument to a layer. When using Sequential models, prefer using an `Input(shape)` object as the first layer in the model instead.\n",
      "  super().__init__(activity_regularizer=activity_regularizer, **kwargs)\n"
     ]
    }
   ],
   "source": [
    "# Define CNN Model\n",
    "model = Sequential()\n",
    "\n",
    "model.add(Conv2D(32, (3, 3), activation='relu', input_shape=(128, 128, 3)))\n",
    "model.add(BatchNormalization())\n",
    "model.add(MaxPooling2D(2, 2))\n",
    "\n",
    "model.add(Conv2D(64, (3, 3), activation='relu'))\n",
    "model.add(BatchNormalization())\n",
    "model.add(MaxPooling2D(2, 2))\n",
    "\n",
    "model.add(Conv2D(128, (3, 3), activation='relu'))\n",
    "model.add(BatchNormalization())\n",
    "model.add(MaxPooling2D(2, 2))\n",
    "\n",
    "model.add(Flatten())\n",
    "model.add(Dense(256, activation='relu'))\n",
    "model.add(Dropout(0.5))\n",
    "model.add(Dense(train_generator.num_classes, activation='softmax'))\n"
   ]
  },
  {
   "cell_type": "code",
   "execution_count": 4,
   "id": "884cc206-28a1-4806-8853-004977531707",
   "metadata": {},
   "outputs": [],
   "source": [
    "model.compile(\n",
    "    optimizer='adam',\n",
    "    loss='categorical_crossentropy',\n",
    "    metrics=['accuracy']\n",
    ")\n"
   ]
  },
  {
   "cell_type": "code",
   "execution_count": 5,
   "id": "2afbd610-2a00-4459-9976-a34d1a118b02",
   "metadata": {},
   "outputs": [
    {
     "name": "stdout",
     "output_type": "stream",
     "text": [
      "Epoch 1/30\n"
     ]
    },
    {
     "name": "stderr",
     "output_type": "stream",
     "text": [
      "C:\\Users\\Manish\\AppData\\Roaming\\Python\\Python312\\site-packages\\keras\\src\\trainers\\data_adapters\\py_dataset_adapter.py:122: UserWarning: Your `PyDataset` class should call `super().__init__(**kwargs)` in its constructor. `**kwargs` can include `workers`, `use_multiprocessing`, `max_queue_size`. Do not pass these arguments to `fit()`, as they will be ignored.\n",
      "  self._warn_if_super_not_called()\n"
     ]
    },
    {
     "name": "stdout",
     "output_type": "stream",
     "text": [
      "\u001b[1m28/28\u001b[0m \u001b[32m━━━━━━━━━━━━━━━━━━━━\u001b[0m\u001b[37m\u001b[0m \u001b[1m20s\u001b[0m 574ms/step - accuracy: 0.2023 - loss: 8.8207 - val_accuracy: 0.1206 - val_loss: 4.1156\n",
      "Epoch 2/30\n",
      "\u001b[1m28/28\u001b[0m \u001b[32m━━━━━━━━━━━━━━━━━━━━\u001b[0m\u001b[37m\u001b[0m \u001b[1m17s\u001b[0m 553ms/step - accuracy: 0.2811 - loss: 3.0658 - val_accuracy: 0.0910 - val_loss: 10.3397\n",
      "Epoch 3/30\n",
      "\u001b[1m28/28\u001b[0m \u001b[32m━━━━━━━━━━━━━━━━━━━━\u001b[0m\u001b[37m\u001b[0m \u001b[1m16s\u001b[0m 548ms/step - accuracy: 0.3028 - loss: 2.2337 - val_accuracy: 0.0910 - val_loss: 12.7282\n",
      "Epoch 4/30\n",
      "\u001b[1m28/28\u001b[0m \u001b[32m━━━━━━━━━━━━━━━━━━━━\u001b[0m\u001b[37m\u001b[0m \u001b[1m16s\u001b[0m 542ms/step - accuracy: 0.3883 - loss: 1.8700 - val_accuracy: 0.1069 - val_loss: 10.4989\n",
      "Epoch 5/30\n",
      "\u001b[1m28/28\u001b[0m \u001b[32m━━━━━━━━━━━━━━━━━━━━\u001b[0m\u001b[37m\u001b[0m \u001b[1m17s\u001b[0m 545ms/step - accuracy: 0.4247 - loss: 1.8054 - val_accuracy: 0.0557 - val_loss: 15.8321\n",
      "Epoch 6/30\n",
      "\u001b[1m28/28\u001b[0m \u001b[32m━━━━━━━━━━━━━━━━━━━━\u001b[0m\u001b[37m\u001b[0m \u001b[1m17s\u001b[0m 559ms/step - accuracy: 0.4735 - loss: 1.5924 - val_accuracy: 0.0250 - val_loss: 16.6510\n",
      "Epoch 7/30\n",
      "\u001b[1m28/28\u001b[0m \u001b[32m━━━━━━━━━━━━━━━━━━━━\u001b[0m\u001b[37m\u001b[0m \u001b[1m18s\u001b[0m 597ms/step - accuracy: 0.4719 - loss: 1.6411 - val_accuracy: 0.0114 - val_loss: 20.5130\n",
      "Epoch 8/30\n",
      "\u001b[1m28/28\u001b[0m \u001b[32m━━━━━━━━━━━━━━━━━━━━\u001b[0m\u001b[37m\u001b[0m \u001b[1m17s\u001b[0m 557ms/step - accuracy: 0.4878 - loss: 1.7014 - val_accuracy: 0.2059 - val_loss: 6.2163\n",
      "Epoch 9/30\n",
      "\u001b[1m28/28\u001b[0m \u001b[32m━━━━━━━━━━━━━━━━━━━━\u001b[0m\u001b[37m\u001b[0m \u001b[1m17s\u001b[0m 570ms/step - accuracy: 0.5331 - loss: 1.3346 - val_accuracy: 0.1001 - val_loss: 11.5119\n",
      "Epoch 10/30\n",
      "\u001b[1m28/28\u001b[0m \u001b[32m━━━━━━━━━━━━━━━━━━━━\u001b[0m\u001b[37m\u001b[0m \u001b[1m17s\u001b[0m 552ms/step - accuracy: 0.5254 - loss: 1.5024 - val_accuracy: 0.1445 - val_loss: 6.9382\n",
      "Epoch 11/30\n",
      "\u001b[1m28/28\u001b[0m \u001b[32m━━━━━━━━━━━━━━━━━━━━\u001b[0m\u001b[37m\u001b[0m \u001b[1m17s\u001b[0m 556ms/step - accuracy: 0.5219 - loss: 1.4343 - val_accuracy: 0.1502 - val_loss: 8.1905\n",
      "Epoch 12/30\n",
      "\u001b[1m28/28\u001b[0m \u001b[32m━━━━━━━━━━━━━━━━━━━━\u001b[0m\u001b[37m\u001b[0m \u001b[1m17s\u001b[0m 573ms/step - accuracy: 0.5716 - loss: 1.2395 - val_accuracy: 0.2253 - val_loss: 5.4088\n",
      "Epoch 13/30\n",
      "\u001b[1m28/28\u001b[0m \u001b[32m━━━━━━━━━━━━━━━━━━━━\u001b[0m\u001b[37m\u001b[0m \u001b[1m17s\u001b[0m 562ms/step - accuracy: 0.5956 - loss: 1.2514 - val_accuracy: 0.2867 - val_loss: 3.8510\n",
      "Epoch 14/30\n",
      "\u001b[1m28/28\u001b[0m \u001b[32m━━━━━━━━━━━━━━━━━━━━\u001b[0m\u001b[37m\u001b[0m \u001b[1m17s\u001b[0m 578ms/step - accuracy: 0.5394 - loss: 1.3497 - val_accuracy: 0.4630 - val_loss: 1.9844\n",
      "Epoch 15/30\n",
      "\u001b[1m28/28\u001b[0m \u001b[32m━━━━━━━━━━━━━━━━━━━━\u001b[0m\u001b[37m\u001b[0m \u001b[1m17s\u001b[0m 555ms/step - accuracy: 0.5927 - loss: 1.1560 - val_accuracy: 0.5415 - val_loss: 1.4198\n",
      "Epoch 16/30\n",
      "\u001b[1m28/28\u001b[0m \u001b[32m━━━━━━━━━━━━━━━━━━━━\u001b[0m\u001b[37m\u001b[0m \u001b[1m17s\u001b[0m 573ms/step - accuracy: 0.6317 - loss: 1.0837 - val_accuracy: 0.7600 - val_loss: 0.7698\n",
      "Epoch 17/30\n",
      "\u001b[1m28/28\u001b[0m \u001b[32m━━━━━━━━━━━━━━━━━━━━\u001b[0m\u001b[37m\u001b[0m \u001b[1m17s\u001b[0m 568ms/step - accuracy: 0.6037 - loss: 1.1317 - val_accuracy: 0.6701 - val_loss: 1.0495\n",
      "Epoch 18/30\n",
      "\u001b[1m28/28\u001b[0m \u001b[32m━━━━━━━━━━━━━━━━━━━━\u001b[0m\u001b[37m\u001b[0m \u001b[1m17s\u001b[0m 563ms/step - accuracy: 0.6626 - loss: 1.0960 - val_accuracy: 0.8168 - val_loss: 0.5880\n",
      "Epoch 19/30\n",
      "\u001b[1m28/28\u001b[0m \u001b[32m━━━━━━━━━━━━━━━━━━━━\u001b[0m\u001b[37m\u001b[0m \u001b[1m17s\u001b[0m 552ms/step - accuracy: 0.6824 - loss: 0.9154 - val_accuracy: 0.7861 - val_loss: 0.6716\n",
      "Epoch 20/30\n",
      "\u001b[1m28/28\u001b[0m \u001b[32m━━━━━━━━━━━━━━━━━━━━\u001b[0m\u001b[37m\u001b[0m \u001b[1m17s\u001b[0m 555ms/step - accuracy: 0.6715 - loss: 0.9407 - val_accuracy: 0.7725 - val_loss: 0.7696\n",
      "Epoch 21/30\n",
      "\u001b[1m28/28\u001b[0m \u001b[32m━━━━━━━━━━━━━━━━━━━━\u001b[0m\u001b[37m\u001b[0m \u001b[1m17s\u001b[0m 551ms/step - accuracy: 0.7093 - loss: 0.8629 - val_accuracy: 0.7452 - val_loss: 0.7604\n",
      "Epoch 22/30\n",
      "\u001b[1m28/28\u001b[0m \u001b[32m━━━━━━━━━━━━━━━━━━━━\u001b[0m\u001b[37m\u001b[0m \u001b[1m17s\u001b[0m 561ms/step - accuracy: 0.6676 - loss: 0.9550 - val_accuracy: 0.8385 - val_loss: 0.5615\n",
      "Epoch 23/30\n",
      "\u001b[1m28/28\u001b[0m \u001b[32m━━━━━━━━━━━━━━━━━━━━\u001b[0m\u001b[37m\u001b[0m \u001b[1m17s\u001b[0m 567ms/step - accuracy: 0.7195 - loss: 0.8066 - val_accuracy: 0.8407 - val_loss: 0.4933\n",
      "Epoch 24/30\n",
      "\u001b[1m28/28\u001b[0m \u001b[32m━━━━━━━━━━━━━━━━━━━━\u001b[0m\u001b[37m\u001b[0m \u001b[1m17s\u001b[0m 568ms/step - accuracy: 0.6963 - loss: 0.8470 - val_accuracy: 0.6689 - val_loss: 1.5045\n",
      "Epoch 25/30\n",
      "\u001b[1m28/28\u001b[0m \u001b[32m━━━━━━━━━━━━━━━━━━━━\u001b[0m\u001b[37m\u001b[0m \u001b[1m17s\u001b[0m 571ms/step - accuracy: 0.6967 - loss: 0.9015 - val_accuracy: 0.8134 - val_loss: 0.5568\n",
      "Epoch 26/30\n",
      "\u001b[1m28/28\u001b[0m \u001b[32m━━━━━━━━━━━━━━━━━━━━\u001b[0m\u001b[37m\u001b[0m \u001b[1m17s\u001b[0m 555ms/step - accuracy: 0.6616 - loss: 0.8952 - val_accuracy: 0.8885 - val_loss: 0.3193\n",
      "Epoch 27/30\n",
      "\u001b[1m28/28\u001b[0m \u001b[32m━━━━━━━━━━━━━━━━━━━━\u001b[0m\u001b[37m\u001b[0m \u001b[1m18s\u001b[0m 609ms/step - accuracy: 0.7276 - loss: 0.7907 - val_accuracy: 0.8305 - val_loss: 0.4833\n",
      "Epoch 28/30\n",
      "\u001b[1m28/28\u001b[0m \u001b[32m━━━━━━━━━━━━━━━━━━━━\u001b[0m\u001b[37m\u001b[0m \u001b[1m17s\u001b[0m 574ms/step - accuracy: 0.7369 - loss: 0.7459 - val_accuracy: 0.9044 - val_loss: 0.3048\n",
      "Epoch 29/30\n",
      "\u001b[1m28/28\u001b[0m \u001b[32m━━━━━━━━━━━━━━━━━━━━\u001b[0m\u001b[37m\u001b[0m \u001b[1m19s\u001b[0m 623ms/step - accuracy: 0.7259 - loss: 0.7154 - val_accuracy: 0.8692 - val_loss: 0.4162\n",
      "Epoch 30/30\n",
      "\u001b[1m28/28\u001b[0m \u001b[32m━━━━━━━━━━━━━━━━━━━━\u001b[0m\u001b[37m\u001b[0m \u001b[1m17s\u001b[0m 566ms/step - accuracy: 0.7536 - loss: 0.8216 - val_accuracy: 0.8908 - val_loss: 0.3259\n"
     ]
    }
   ],
   "source": [
    "history = model.fit(\n",
    "    train_generator,\n",
    "    epochs=30,\n",
    "    validation_data=val_generator\n",
    ")\n"
   ]
  },
  {
   "cell_type": "code",
   "execution_count": 6,
   "id": "9b342bd6-384c-48e2-a80d-7beb2bb2b506",
   "metadata": {},
   "outputs": [],
   "source": [
    "model.save_weights('best_model2.weights.h5')\n"
   ]
  },
  {
   "cell_type": "code",
   "execution_count": 7,
   "id": "50954963-3bae-4a0a-b6de-c55c0eaa54ce",
   "metadata": {},
   "outputs": [
    {
     "data": {
      "image/png": "[encoded data removed]",
      "text/plain": [
       "<Figure size 800x400 with 1 Axes>"
      ]
     },
     "metadata": {},
     "output_type": "display_data"
    }
   ],
   "source": [
    "plt.figure(figsize=(8, 4))\n",
    "plt.plot(history.history['accuracy'], label='Training Accuracy')\n",
    "plt.plot(history.history['val_accuracy'], label='Validation Accuracy')\n",
    "plt.title('Training and Validation Accuracy')\n",
    "plt.legend()\n",
    "plt.show()\n"
   ]
  },
  {
   "cell_type": "code",
   "execution_count": 8,
   "id": "b343d18d-d779-4eda-ba42-04832fbe2d26",
   "metadata": {},
   "outputs": [
    {
     "name": "stdout",
     "output_type": "stream",
     "text": [
      "\u001b[1m28/28\u001b[0m \u001b[32m━━━━━━━━━━━━━━━━━━━━\u001b[0m\u001b[37m\u001b[0m \u001b[1m3s\u001b[0m 121ms/step - accuracy: 0.8941 - loss: 0.2995\n",
      "\n",
      "✅ Final Validation Accuracy: 89.08%\n"
     ]
    }
   ],
   "source": [
    "model.load_weights('best_model.weights.h5')\n",
    "loss, acc = model.evaluate(val_generator)\n",
    "print(f\"\\n✅ Final Validation Accuracy: {(acc*100):.2f}%\")\n"
   ]
  },
  {
   "cell_type": "code",
   "execution_count": 9,
   "id": "a78a2b77-e8ec-40fa-9f63-ee356ed6ffca",
   "metadata": {},
   "outputs": [
    {
     "name": "stdout",
     "output_type": "stream",
     "text": [
      "\u001b[1m28/28\u001b[0m \u001b[32m━━━━━━━━━━━━━━━━━━━━\u001b[0m\u001b[37m\u001b[0m \u001b[1m4s\u001b[0m 143ms/step\n",
      "\n",
      "📌 Classification Report:\n",
      "               precision    recall  f1-score   support\n",
      "\n",
      "           0       0.94      0.94      0.94        80\n",
      "           1       0.90      0.91      0.90        78\n",
      "           2       0.93      0.90      0.91        77\n",
      "           3       0.82      0.78      0.79        80\n",
      "           4       0.93      0.84      0.88        76\n",
      "           5       0.81      0.88      0.84        80\n",
      "           6       0.74      0.93      0.82        80\n",
      "           7       1.00      0.89      0.94        80\n",
      "           8       0.89      0.95      0.92        80\n",
      "           9       0.95      0.93      0.94        80\n",
      "          10       0.94      0.86      0.90        78\n",
      "          11       1.00      1.00      1.00        10\n",
      "\n",
      "    accuracy                           0.89       879\n",
      "   macro avg       0.90      0.90      0.90       879\n",
      "weighted avg       0.90      0.89      0.89       879\n",
      "\n"
     ]
    }
   ],
   "source": [
    "y_true = val_generator.classes\n",
    "y_pred = np.argmax(model.predict(val_generator), axis=1)\n",
    "\n",
    "print(\"\\n📌 Classification Report:\\n\", classification_report(y_true, y_pred))\n",
    "\n"
   ]
  }
 ],
 "metadata": {
  "kernelspec": {
   "display_name": "Python 3 (ipykernel)",
   "language": "python",
   "name": "python3"
  },
  "language_info": {
   "codemirror_mode": {
    "name": "ipython",
    "version": 3
   },
   "file_extension": ".py",
   "mimetype": "text/x-python",
   "name": "python",
   "nbconvert_exporter": "python",
   "pygments_lexer": "ipython3",
   "version": "3.12.2"
  }
 },
 "nbformat": 4,
 "nbformat_minor": 5
}
